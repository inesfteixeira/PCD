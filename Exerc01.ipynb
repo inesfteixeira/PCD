{
 "cells": [
  {
   "cell_type": "code",
   "execution_count": 14,
   "metadata": {},
   "outputs": [],
   "source": [
    "#average grades for ISEG programs 2020\n",
    "\n",
    "economia=164.0 \n",
    "gestao=167.5 \n",
    "maeg=187.5 \n",
    "management=167.0 \n",
    "economics=162.5 \n",
    "finance=160.0"
   ]
  },
  {
   "cell_type": "code",
   "execution_count": null,
   "metadata": {},
   "outputs": [],
   "source": [
    "# create a list (listEconomics) with average grades of economics progra ms\n",
    "# the list will have as elements the average grade of economia\n",
    "# and average grade of economics"
   ]
  },
  {
   "cell_type": "code",
   "execution_count": 15,
   "metadata": {},
   "outputs": [
    {
     "name": "stdout",
     "output_type": "stream",
     "text": [
      "[164.0, 162.5]\n"
     ]
    }
   ],
   "source": [
    "listEconomics=[economia,economics]\n",
    "print(listEconomics)"
   ]
  },
  {
   "cell_type": "code",
   "execution_count": null,
   "metadata": {},
   "outputs": [],
   "source": [
    "# create a list (listMathmatics) with average grades of mathmatics prog rams\n",
    "# the list will have as elements the average grade of maeg"
   ]
  },
  {
   "cell_type": "code",
   "execution_count": 16,
   "metadata": {},
   "outputs": [
    {
     "name": "stdout",
     "output_type": "stream",
     "text": [
      "[187.5]\n"
     ]
    }
   ],
   "source": [
    "listMathematics=[maeg]\n",
    "print(listMathematics)"
   ]
  },
  {
   "cell_type": "code",
   "execution_count": null,
   "metadata": {},
   "outputs": [],
   "source": [
    "#create a list (listManagment) with average grades of managment program s\n",
    "# the list will have as elements the average grade of managment,\n",
    "# the average grade of finance and average grade of gestao"
   ]
  },
  {
   "cell_type": "code",
   "execution_count": 17,
   "metadata": {},
   "outputs": [
    {
     "name": "stdout",
     "output_type": "stream",
     "text": [
      "[160.0, 167.5]\n"
     ]
    }
   ],
   "source": [
    "listManagement=[finance,gestao]\n",
    "print(listManagement)"
   ]
  },
  {
   "cell_type": "code",
   "execution_count": null,
   "metadata": {},
   "outputs": [],
   "source": [
    "  #What is the purpose of using extend? Create a new list with the\n",
    "# privouslists (listEconomics, listManagment,listMathmatics ) using ext end and called listAll1"
   ]
  },
  {
   "cell_type": "code",
   "execution_count": null,
   "metadata": {},
   "outputs": [],
   "source": [
    "# o extend serve para juntar listas"
   ]
  },
  {
   "cell_type": "code",
   "execution_count": 26,
   "metadata": {},
   "outputs": [
    {
     "name": "stdout",
     "output_type": "stream",
     "text": [
      "[164.0, 162.5, [187.5], [164.0, 162.5, [187.5], [...], [160.0, 167.5], [187.5], [...], [160.0, 167.5], 'listMathematics,listManagement'], [160.0, 167.5], [187.5], [164.0, 162.5, [187.5], [...], [160.0, 167.5], [187.5], [...], [160.0, 167.5], 'listMathematics,listManagement'], [160.0, 167.5], 'listMathematics,listManagement', 187.5, 160.0, 167.5]\n"
     ]
    }
   ],
   "source": [
    "listAll1=[]\n",
    "listAll1.extend(listEconomics)\n",
    "listAll1.extend(listMathematics)\n",
    "listAll1.extend(listManagement)\n",
    "print(listAll1)"
   ]
  },
  {
   "cell_type": "code",
   "execution_count": null,
   "metadata": {},
   "outputs": [],
   "source": [
    "#What is the purpose of using append? Create a new list with the\n",
    "# privouslists (listEconomics, listManagment,listMathmatics ) using app end and called listAll2"
   ]
  },
  {
   "cell_type": "code",
   "execution_count": null,
   "metadata": {},
   "outputs": [],
   "source": [
    "# o append serve para adicionar elementos a uma lista"
   ]
  },
  {
   "cell_type": "code",
   "execution_count": 27,
   "metadata": {},
   "outputs": [
    {
     "name": "stdout",
     "output_type": "stream",
     "text": [
      "[[164.0, 162.5, [187.5], [...], [160.0, 167.5], [187.5], [...], [160.0, 167.5], 'listMathematics,listManagement'], [187.5], [160.0, 167.5]]\n"
     ]
    }
   ],
   "source": [
    "listAll2=[]\n",
    "listAll2.append(listEconomics)\n",
    "listAll2.append(listMathematics)\n",
    "listAll2.append(listManagement)\n",
    "print(listAll2)"
   ]
  },
  {
   "cell_type": "code",
   "execution_count": null,
   "metadata": {},
   "outputs": [],
   "source": [
    "#How many elements does listAll2 have?"
   ]
  },
  {
   "cell_type": "code",
   "execution_count": 28,
   "metadata": {},
   "outputs": [
    {
     "data": {
      "text/plain": [
       "3"
      ]
     },
     "execution_count": 28,
     "metadata": {},
     "output_type": "execute_result"
    }
   ],
   "source": [
    "len(listAll2)"
   ]
  },
  {
   "cell_type": "code",
   "execution_count": null,
   "metadata": {},
   "outputs": [],
   "source": [
    "#How many elements does listAll1 have?"
   ]
  },
  {
   "cell_type": "code",
   "execution_count": 29,
   "metadata": {},
   "outputs": [
    {
     "data": {
      "text/plain": [
       "12"
      ]
     },
     "execution_count": 29,
     "metadata": {},
     "output_type": "execute_result"
    }
   ],
   "source": [
    "len(listAll1)"
   ]
  },
  {
   "cell_type": "code",
   "execution_count": null,
   "metadata": {},
   "outputs": [],
   "source": [
    "#What is the average grade if all the courses have the same weight"
   ]
  },
  {
   "cell_type": "code",
   "execution_count": 43,
   "metadata": {},
   "outputs": [
    {
     "name": "stdout",
     "output_type": "stream",
     "text": [
      "[164.0, 167.5, 187.5, 167.0, 162.5, 160.0]\n"
     ]
    }
   ],
   "source": [
    "grades=[164.0, 167.5, 187.5, 167.0, 162.5, 160.0]\n",
    "print(grades)"
   ]
  },
  {
   "cell_type": "code",
   "execution_count": 45,
   "metadata": {},
   "outputs": [
    {
     "ename": "TypeError",
     "evalue": "'list' object is not callable",
     "output_type": "error",
     "traceback": [
      "\u001b[0;31m---------------------------------------------------------------------------\u001b[0m",
      "\u001b[0;31mTypeError\u001b[0m                                 Traceback (most recent call last)",
      "\u001b[0;32m<ipython-input-45-8ebec6dec25c>\u001b[0m in \u001b[0;36m<module>\u001b[0;34m\u001b[0m\n\u001b[0;32m----> 1\u001b[0;31m \u001b[0maverage\u001b[0m\u001b[0;34m=\u001b[0m\u001b[0msum\u001b[0m\u001b[0;34m(\u001b[0m\u001b[0mgrades\u001b[0m\u001b[0;34m)\u001b[0m\u001b[0;34m/\u001b[0m\u001b[0mlen\u001b[0m\u001b[0;34m(\u001b[0m\u001b[0mgrades\u001b[0m\u001b[0;34m)\u001b[0m\u001b[0;34m\u001b[0m\u001b[0;34m\u001b[0m\u001b[0m\n\u001b[0m\u001b[1;32m      2\u001b[0m \u001b[0mprint\u001b[0m\u001b[0;34m(\u001b[0m\u001b[0mstr\u001b[0m\u001b[0;34m(\u001b[0m\u001b[0mround\u001b[0m\u001b[0;34m(\u001b[0m\u001b[0maverage\u001b[0m\u001b[0;34m,\u001b[0m\u001b[0;36m2\u001b[0m\u001b[0;34m)\u001b[0m\u001b[0;34m)\u001b[0m \u001b[0;34m)\u001b[0m\u001b[0;34m\u001b[0m\u001b[0;34m\u001b[0m\u001b[0m\n",
      "\u001b[0;31mTypeError\u001b[0m: 'list' object is not callable"
     ]
    }
   ],
   "source": [
    "average=sum(grades)/len(grades)\n",
    "print(\"the grades average is\"+str(round(average,2)) )"
   ]
  },
  {
   "cell_type": "code",
   "execution_count": null,
   "metadata": {},
   "outputs": [],
   "source": []
  }
 ],
 "metadata": {
  "kernelspec": {
   "display_name": "Python 3",
   "language": "python",
   "name": "python3"
  },
  "language_info": {
   "codemirror_mode": {
    "name": "ipython",
    "version": 3
   },
   "file_extension": ".py",
   "mimetype": "text/x-python",
   "name": "python",
   "nbconvert_exporter": "python",
   "pygments_lexer": "ipython3",
   "version": "3.8.3"
  }
 },
 "nbformat": 4,
 "nbformat_minor": 4
}
